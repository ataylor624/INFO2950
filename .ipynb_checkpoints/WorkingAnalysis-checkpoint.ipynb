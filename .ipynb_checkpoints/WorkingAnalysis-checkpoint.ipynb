{
 "cells": [
  {
   "cell_type": "code",
   "execution_count": 1,
   "metadata": {},
   "outputs": [],
   "source": [
    "import re\n",
    "import bs4 #this may be appendices only\n",
    "import requests #this may be appendices only\n",
    "import pandas as pd\n",
    "import numpy as np\n",
    "import matplotlib.pyplot as plt\n",
    "from scipy import stats\n",
    "from datetime import datetime\n",
    "import datetime\n",
    "import seaborn as sns\n",
    "from   sklearn.linear_model import LinearRegression, LogisticRegression\n",
    "from   sklearn.model_selection import train_test_split\n",
    "import statsmodels.formula.api as smf\n",
    "from sklearn.cluster import KMeans"
   ]
  },
  {
   "cell_type": "code",
   "execution_count": 2,
   "metadata": {},
   "outputs": [
    {
     "data": {
      "text/plain": [
       "Index(['Unnamed: 0', 'index', 'lr_my', 'author', 'title', 'pub_date',\n",
       "       'publisher', 'isbn', 'lr_top', 'lr_hof', 'debut', 'lr_yfav', 'genre',\n",
       "       'annotation', 'nom_lib_lr', 'permalink', 'genre_0', 'genre_1',\n",
       "       'genre_2', 'genre_3', 'genre_4', 'genre_5', 'genre_6', 'genre_7'],\n",
       "      dtype='object')"
      ]
     },
     "execution_count": 2,
     "metadata": {},
     "output_type": "execute_result"
    }
   ],
   "source": [
    "full_df_04_14 = pd.read_csv('2021-04-14_Cleaned_full_df.csv')\n",
    "full_df_04_14.columns"
   ]
  },
  {
   "cell_type": "code",
   "execution_count": 3,
   "metadata": {},
   "outputs": [
    {
     "name": "stdout",
     "output_type": "stream",
     "text": [
      "lr_top x    86\n",
      "Name: lr_top, dtype: int64\n",
      "lr_top 0    850\n",
      "1     86\n",
      "Name: lr_top, dtype: int64\n",
      "lr_hof x    77\n",
      "Name: lr_hof, dtype: int64\n",
      "lr_hof 0    859\n",
      "1     77\n",
      "Name: lr_hof, dtype: int64\n",
      "debut x    181\n",
      "Name: debut, dtype: int64\n",
      "debut 0    755\n",
      "1    181\n",
      "Name: debut, dtype: int64\n"
     ]
    }
   ],
   "source": [
    "indicator_vars = ['lr_top','lr_hof','debut']\n",
    "for indicator in indicator_vars:\n",
    "    print(indicator, full_df_04_14[indicator].value_counts())\n",
    "    full_df_04_14[indicator]=full_df_04_14[indicator].apply(lambda x: 1 if x == 'x' else 0) #convert to Booleans\n",
    "    print(indicator,full_df_04_14[indicator].value_counts())\n"
   ]
  },
  {
   "cell_type": "code",
   "execution_count": 4,
   "metadata": {},
   "outputs": [
    {
     "data": {
      "text/html": [
       "<div>\n",
       "<style scoped>\n",
       "    .dataframe tbody tr th:only-of-type {\n",
       "        vertical-align: middle;\n",
       "    }\n",
       "\n",
       "    .dataframe tbody tr th {\n",
       "        vertical-align: top;\n",
       "    }\n",
       "\n",
       "    .dataframe thead th {\n",
       "        text-align: right;\n",
       "    }\n",
       "</style>\n",
       "<table border=\"1\" class=\"dataframe\">\n",
       "  <thead>\n",
       "    <tr style=\"text-align: right;\">\n",
       "      <th></th>\n",
       "      <th>lr_top</th>\n",
       "      <th>lr_hof</th>\n",
       "      <th>debut</th>\n",
       "    </tr>\n",
       "  </thead>\n",
       "  <tbody>\n",
       "    <tr>\n",
       "      <th>0</th>\n",
       "      <td>0</td>\n",
       "      <td>0</td>\n",
       "      <td>0</td>\n",
       "    </tr>\n",
       "    <tr>\n",
       "      <th>1</th>\n",
       "      <td>0</td>\n",
       "      <td>1</td>\n",
       "      <td>0</td>\n",
       "    </tr>\n",
       "    <tr>\n",
       "      <th>2</th>\n",
       "      <td>0</td>\n",
       "      <td>0</td>\n",
       "      <td>0</td>\n",
       "    </tr>\n",
       "    <tr>\n",
       "      <th>3</th>\n",
       "      <td>0</td>\n",
       "      <td>0</td>\n",
       "      <td>1</td>\n",
       "    </tr>\n",
       "    <tr>\n",
       "      <th>4</th>\n",
       "      <td>0</td>\n",
       "      <td>0</td>\n",
       "      <td>0</td>\n",
       "    </tr>\n",
       "    <tr>\n",
       "      <th>...</th>\n",
       "      <td>...</td>\n",
       "      <td>...</td>\n",
       "      <td>...</td>\n",
       "    </tr>\n",
       "    <tr>\n",
       "      <th>931</th>\n",
       "      <td>0</td>\n",
       "      <td>0</td>\n",
       "      <td>0</td>\n",
       "    </tr>\n",
       "    <tr>\n",
       "      <th>932</th>\n",
       "      <td>0</td>\n",
       "      <td>0</td>\n",
       "      <td>0</td>\n",
       "    </tr>\n",
       "    <tr>\n",
       "      <th>933</th>\n",
       "      <td>0</td>\n",
       "      <td>0</td>\n",
       "      <td>0</td>\n",
       "    </tr>\n",
       "    <tr>\n",
       "      <th>934</th>\n",
       "      <td>1</td>\n",
       "      <td>0</td>\n",
       "      <td>0</td>\n",
       "    </tr>\n",
       "    <tr>\n",
       "      <th>935</th>\n",
       "      <td>0</td>\n",
       "      <td>0</td>\n",
       "      <td>0</td>\n",
       "    </tr>\n",
       "  </tbody>\n",
       "</table>\n",
       "<p>936 rows × 3 columns</p>\n",
       "</div>"
      ],
      "text/plain": [
       "     lr_top  lr_hof  debut\n",
       "0         0       0      0\n",
       "1         0       1      0\n",
       "2         0       0      0\n",
       "3         0       0      1\n",
       "4         0       0      0\n",
       "..      ...     ...    ...\n",
       "931       0       0      0\n",
       "932       0       0      0\n",
       "933       0       0      0\n",
       "934       1       0      0\n",
       "935       0       0      0\n",
       "\n",
       "[936 rows x 3 columns]"
      ]
     },
     "execution_count": 4,
     "metadata": {},
     "output_type": "execute_result"
    }
   ],
   "source": [
    "full_df_04_14[indicator_vars]"
   ]
  },
  {
   "cell_type": "code",
   "execution_count": 5,
   "metadata": {},
   "outputs": [
    {
     "data": {
      "text/plain": [
       "Literary Fiction      210\n",
       "Mystery               117\n",
       "Suspense/Thriller      85\n",
       "Historical Fiction     84\n",
       "SF/Fantasy             82\n",
       "Romance                49\n",
       "Non-Fiction            32\n",
       "Memoir                 11\n",
       "Horror                  8\n",
       "Biography               5\n",
       "Short Stories           5\n",
       "Graphic Novel           1\n",
       "Suspense/Thiller        1\n",
       "Literary Fic            1\n",
       "Short stories           1\n",
       "Literary Fiction        1\n",
       "Name: genre, dtype: int64"
      ]
     },
     "execution_count": 5,
     "metadata": {},
     "output_type": "execute_result"
    }
   ],
   "source": [
    "full_df_04_14.genre.value_counts()"
   ]
  },
  {
   "cell_type": "code",
   "execution_count": 6,
   "metadata": {},
   "outputs": [
    {
     "data": {
      "text/plain": [
       "lr_my  genre             \n",
       "2013   Historical Fiction     8\n",
       "       Literary Fiction       8\n",
       "       Mystery                7\n",
       "       Non-Fiction            5\n",
       "       Romance                4\n",
       "                             ..\n",
       "2019   Historical Fiction    12\n",
       "       Mystery               10\n",
       "       Non-Fiction            2\n",
       "       Graphic Novel          1\n",
       "       Literary Fiction       1\n",
       "Name: genre, Length: 71, dtype: int64"
      ]
     },
     "execution_count": 6,
     "metadata": {},
     "output_type": "execute_result"
    }
   ],
   "source": [
    "full_df_04_14.genre.groupby(full_df_04_14.lr_my.str[:4]).value_counts()"
   ]
  },
  {
   "cell_type": "code",
   "execution_count": 7,
   "metadata": {},
   "outputs": [
    {
     "data": {
      "text/plain": [
       "lr_my\n",
       "2013     40\n",
       "2014    110\n",
       "2015    110\n",
       "2016    120\n",
       "2017    100\n",
       "2018    115\n",
       "2019    147\n",
       "2020    155\n",
       "2021     39\n",
       "Name: isbn, dtype: int64"
      ]
     },
     "execution_count": 7,
     "metadata": {},
     "output_type": "execute_result"
    }
   ],
   "source": [
    "full_df_04_14.isbn.groupby(full_df_04_14.lr_my.str[:4]).count()"
   ]
  },
  {
   "cell_type": "code",
   "execution_count": 8,
   "metadata": {},
   "outputs": [
    {
     "data": {
      "text/plain": [
       "lr_my\n",
       "2013     40\n",
       "2014    110\n",
       "2015    110\n",
       "2016    120\n",
       "2017    100\n",
       "2018    114\n",
       "2019     99\n",
       "2020      0\n",
       "2021      0\n",
       "Name: genre, dtype: int64"
      ]
     },
     "execution_count": 8,
     "metadata": {},
     "output_type": "execute_result"
    }
   ],
   "source": [
    "full_df_04_14.genre.groupby(full_df_04_14.lr_my.str[:4]).count()"
   ]
  },
  {
   "cell_type": "code",
   "execution_count": 23,
   "metadata": {},
   "outputs": [],
   "source": [
    "full_df_04_14.loc[full_df_04_14.genre=='Literary Fic']\n",
    "full_df_04_14.loc[884,'genre'] = 'Literary Fiction'"
   ]
  },
  {
   "cell_type": "code",
   "execution_count": 30,
   "metadata": {},
   "outputs": [],
   "source": [
    "full_df_04_14.genre = full_df_04_14.genre.str.strip()"
   ]
  },
  {
   "cell_type": "code",
   "execution_count": 32,
   "metadata": {},
   "outputs": [
    {
     "data": {
      "text/plain": [
       "Literary Fiction      212\n",
       "Mystery               117\n",
       "Suspense/Thriller      85\n",
       "Historical Fiction     84\n",
       "SF/Fantasy             82\n",
       "Romance                49\n",
       "Non-Fiction            32\n",
       "Memoir                 11\n",
       "Horror                  8\n",
       "Biography               5\n",
       "Short Stories           5\n",
       "Graphic Novel           1\n",
       "Suspense/Thiller        1\n",
       "Short stories           1\n",
       "Name: genre, dtype: int64"
      ]
     },
     "execution_count": 32,
     "metadata": {},
     "output_type": "execute_result"
    }
   ],
   "source": [
    "full_df_04_14.genre.value_counts()"
   ]
  },
  {
   "cell_type": "code",
   "execution_count": 41,
   "metadata": {},
   "outputs": [],
   "source": [
    "full_df_04_14['genre']=full_df_04_14['genre'].astype(str)"
   ]
  },
  {
   "cell_type": "code",
   "execution_count": 54,
   "metadata": {},
   "outputs": [
    {
     "data": {
      "text/plain": [
       "<function matplotlib.pyplot.tight_layout(*, pad=1.08, h_pad=None, w_pad=None, rect=None)>"
      ]
     },
     "execution_count": 54,
     "metadata": {},
     "output_type": "execute_result"
    },
    {
     "data": {
      "image/png": "[encoded data removed]",
      "text/plain": [
       "<Figure size 432x288 with 1 Axes>"
      ]
     },
     "metadata": {
      "needs_background": "light"
     },
     "output_type": "display_data"
    }
   ],
   "source": [
    "full_df_04_14.genre.loc[full_df_04_14.genre != 'nan'].value_counts().plot(kind = 'barh')\n",
    "plt.xlabel('Count of genre reported in LibraryReads data')\n",
    "plt.ylabel('genre')\n",
    "plt.title('LibraryReads Reported Genre')\n",
    "plt.tight_layout"
   ]
  },
  {
   "cell_type": "code",
   "execution_count": 94,
   "metadata": {},
   "outputs": [
    {
     "name": "stdout",
     "output_type": "stream",
     "text": [
      "Index(['Literary Fiction', 'Mystery', 'Suspense/Thriller',\n",
      "       'Historical Fiction', 'SF/Fantasy', 'Romance', 'Non-Fiction', 'Memoir',\n",
      "       'Horror', 'Biography', 'Short Stories', 'Graphic Novel',\n",
      "       'Suspense/Thiller', 'Short stories'],\n",
      "      dtype='object')\n"
     ]
    },
    {
     "data": {
      "text/plain": [
       "<seaborn.axisgrid.FacetGrid at 0x241dd9caee0>"
      ]
     },
     "execution_count": 94,
     "metadata": {},
     "output_type": "execute_result"
    },
    {
     "data": {
      "image/png": "[encoded data removed]",
      "text/plain": [
       "<Figure size 576x1152 with 7 Axes>"
      ]
     },
     "metadata": {
      "needs_background": "light"
     },
     "output_type": "display_data"
    }
   ],
   "source": [
    "full_df_04_14['year'] = full_df_04_14.lr_my.str[:4].astype(int)\n",
    "\n",
    "\n",
    "#sns.facetgrid(full_df_04_14.genre.loc[full_df_04_14.genre != 'nan'].groupby(\n",
    " #   full_df_04_14.lr_my.str[:4]).value_counts().plot(kind = 'barh')\n",
    "ordered_genres = full_df_04_14.genre.loc[full_df_04_14.genre != 'nan'].value_counts().index\n",
    "print(ordered_genres)\n",
    "sns.catplot(y = 'genre', \n",
    "            data=full_df_04_14.loc[full_df_04_14.genre != 'nan'],\n",
    "            kind='count',\n",
    "            col = 'year', col_wrap = 2,\n",
    "           height = 4, aspect = 1,\n",
    "           order=ordered_genres,\n",
    "           palette = 'colorblind')"
   ]
  },
  {
   "cell_type": "code",
   "execution_count": 130,
   "metadata": {},
   "outputs": [
    {
     "name": "stdout",
     "output_type": "stream",
     "text": [
      "51 genres identified in Library of Congress Records more than once\n",
      "52 genres identified in Library of Congress Records once\n"
     ]
    },
    {
     "data": {
      "text/plain": [
       "Index(['Suspense fiction.', 'Mystery fiction.', 'Love stories.',\n",
       "       'Domestic fiction.', 'Historical fiction.', 'Psychological fiction.',\n",
       "       'Fiction.', 'Fantasy fiction.', 'Thrillers (Fiction)',\n",
       "       'Humorous fiction.',\n",
       "       ...\n",
       "       'Detective and mystery fiction', 'HIstorical fiction.', 'Love stories',\n",
       "       'Time-travel fiction.', 'Young adult fiction.', 'Musical fiction.',\n",
       "       'Utopian fiction.', 'Medical novels', 'Juvenile works.',\n",
       "       'Graphic novels.'],\n",
       "      dtype='object', length=103)"
      ]
     },
     "execution_count": 130,
     "metadata": {},
     "output_type": "execute_result"
    }
   ],
   "source": [
    "full_df_04_14.to_csv('wide_df.csv')\n",
    "long_df = pd.melt(full_df_04_14, id_vars=['isbn'], value_vars=['genre_0', 'genre_1',\n",
    "       'genre_2', 'genre_3', 'genre_4', 'genre_5', 'genre_6', 'genre_7'])\n",
    "len(long_df)\n",
    "LibofCongress_genres = long_df.value.value_counts()\n",
    "print(len(LibofCongress_genres.loc[LibofCongress_genres > 1]),'genres identified in Library of Congress Records more than once')\n",
    "print(len(LibofCongress_genres.loc[LibofCongress_genres == 1]),'genres identified in Library of Congress Records once')\n",
    "#analogous LoC\n",
    "# Key point: a book can have up to 7 LoC genres, sort order is probably default alpha order, don't assign meaning\n",
    "\n",
    "LibofCongress_genres.index\n"
   ]
  },
  {
   "cell_type": "code",
   "execution_count": 112,
   "metadata": {},
   "outputs": [],
   "source": [
    "#last hail-mary pass at the LoC for isbns with permalinks that didn't exist in March\n",
    "full_df_04_14.isbn.loc[full_df_04_14.permalink.isna()].to_csv('NoPermalink.csv')"
   ]
  },
  {
   "cell_type": "code",
   "execution_count": 123,
   "metadata": {},
   "outputs": [
    {
     "data": {
      "text/html": [
       "<div>\n",
       "<style scoped>\n",
       "    .dataframe tbody tr th:only-of-type {\n",
       "        vertical-align: middle;\n",
       "    }\n",
       "\n",
       "    .dataframe tbody tr th {\n",
       "        vertical-align: top;\n",
       "    }\n",
       "\n",
       "    .dataframe thead th {\n",
       "        text-align: right;\n",
       "    }\n",
       "</style>\n",
       "<table border=\"1\" class=\"dataframe\">\n",
       "  <thead>\n",
       "    <tr style=\"text-align: right;\">\n",
       "      <th></th>\n",
       "      <th>Unnamed: 0</th>\n",
       "      <th>index</th>\n",
       "      <th>lr_my</th>\n",
       "      <th>author</th>\n",
       "      <th>title</th>\n",
       "      <th>pub_date</th>\n",
       "      <th>publisher</th>\n",
       "      <th>isbn</th>\n",
       "      <th>lr_top</th>\n",
       "      <th>lr_hof</th>\n",
       "      <th>...</th>\n",
       "      <th>permalink</th>\n",
       "      <th>genre_0</th>\n",
       "      <th>genre_1</th>\n",
       "      <th>genre_2</th>\n",
       "      <th>genre_3</th>\n",
       "      <th>genre_4</th>\n",
       "      <th>genre_5</th>\n",
       "      <th>genre_6</th>\n",
       "      <th>genre_7</th>\n",
       "      <th>year</th>\n",
       "    </tr>\n",
       "  </thead>\n",
       "  <tbody>\n",
       "    <tr>\n",
       "      <th>47</th>\n",
       "      <td>47</td>\n",
       "      <td>51</td>\n",
       "      <td>2020/12</td>\n",
       "      <td>Macallister, Greer</td>\n",
       "      <td>The Arctic Fury: A Novel</td>\n",
       "      <td>2020-12-01 00:00:00</td>\n",
       "      <td>sourcebooks landmark</td>\n",
       "      <td>9781728215693</td>\n",
       "      <td>0</td>\n",
       "      <td>0</td>\n",
       "      <td>...</td>\n",
       "      <td>https://lccn.loc.gov/2020015957</td>\n",
       "      <td>Biographical Fiction.</td>\n",
       "      <td>NaN</td>\n",
       "      <td>NaN</td>\n",
       "      <td>NaN</td>\n",
       "      <td>NaN</td>\n",
       "      <td>NaN</td>\n",
       "      <td>NaN</td>\n",
       "      <td>NaN</td>\n",
       "      <td>2020</td>\n",
       "    </tr>\n",
       "  </tbody>\n",
       "</table>\n",
       "<p>1 rows × 25 columns</p>\n",
       "</div>"
      ],
      "text/plain": [
       "    Unnamed: 0  index    lr_my              author                     title  \\\n",
       "47          47     51  2020/12  Macallister, Greer  The Arctic Fury: A Novel   \n",
       "\n",
       "               pub_date             publisher           isbn  lr_top  lr_hof  \\\n",
       "47  2020-12-01 00:00:00  sourcebooks landmark  9781728215693       0       0   \n",
       "\n",
       "    ...                        permalink                genre_0 genre_1  \\\n",
       "47  ...  https://lccn.loc.gov/2020015957  Biographical Fiction.     NaN   \n",
       "\n",
       "   genre_2 genre_3 genre_4 genre_5 genre_6 genre_7  year  \n",
       "47     NaN     NaN     NaN     NaN     NaN     NaN  2020  \n",
       "\n",
       "[1 rows x 25 columns]"
      ]
     },
     "execution_count": 123,
     "metadata": {},
     "output_type": "execute_result"
    }
   ],
   "source": [
    "full_df_04_14.loc[full_df_04_14.isbn==9781728215693]"
   ]
  },
  {
   "cell_type": "code",
   "execution_count": 129,
   "metadata": {},
   "outputs": [],
   "source": [
    "full_df_04_14.loc[47,'permalink'] = 'https://lccn.loc.gov/2020015957'\n",
    "full_df_04_14.loc[47,'genre_0'] = 'Biographical fiction.'"
   ]
  },
  {
   "cell_type": "code",
   "execution_count": 132,
   "metadata": {},
   "outputs": [
    {
     "data": {
      "text/html": [
       "<div>\n",
       "<style scoped>\n",
       "    .dataframe tbody tr th:only-of-type {\n",
       "        vertical-align: middle;\n",
       "    }\n",
       "\n",
       "    .dataframe tbody tr th {\n",
       "        vertical-align: top;\n",
       "    }\n",
       "\n",
       "    .dataframe thead th {\n",
       "        text-align: right;\n",
       "    }\n",
       "</style>\n",
       "<table border=\"1\" class=\"dataframe\">\n",
       "  <thead>\n",
       "    <tr style=\"text-align: right;\">\n",
       "      <th></th>\n",
       "      <th>Unnamed: 0</th>\n",
       "      <th>index</th>\n",
       "      <th>lr_my</th>\n",
       "      <th>author</th>\n",
       "      <th>title</th>\n",
       "      <th>pub_date</th>\n",
       "      <th>publisher</th>\n",
       "      <th>isbn</th>\n",
       "      <th>lr_top</th>\n",
       "      <th>lr_hof</th>\n",
       "      <th>...</th>\n",
       "      <th>permalink</th>\n",
       "      <th>genre_0</th>\n",
       "      <th>genre_1</th>\n",
       "      <th>genre_2</th>\n",
       "      <th>genre_3</th>\n",
       "      <th>genre_4</th>\n",
       "      <th>genre_5</th>\n",
       "      <th>genre_6</th>\n",
       "      <th>genre_7</th>\n",
       "      <th>year</th>\n",
       "    </tr>\n",
       "  </thead>\n",
       "  <tbody>\n",
       "    <tr>\n",
       "      <th>183</th>\n",
       "      <td>183</td>\n",
       "      <td>198</td>\n",
       "      <td>2020/01</td>\n",
       "      <td>Bailey, Tessa</td>\n",
       "      <td>Love Her or Lose Her: A Novel</td>\n",
       "      <td>2020-01-14 00:00:00</td>\n",
       "      <td>avon</td>\n",
       "      <td>9780062872852</td>\n",
       "      <td>0</td>\n",
       "      <td>0</td>\n",
       "      <td>...</td>\n",
       "      <td>https://lccn.loc.gov/2020275791</td>\n",
       "      <td>Chick lit.</td>\n",
       "      <td>Fiction.</td>\n",
       "      <td>Humorous fiction</td>\n",
       "      <td>Romance fiction</td>\n",
       "      <td>Love stories</td>\n",
       "      <td>NaN</td>\n",
       "      <td>NaN</td>\n",
       "      <td>NaN</td>\n",
       "      <td>2020</td>\n",
       "    </tr>\n",
       "  </tbody>\n",
       "</table>\n",
       "<p>1 rows × 25 columns</p>\n",
       "</div>"
      ],
      "text/plain": [
       "     Unnamed: 0  index    lr_my         author                          title  \\\n",
       "183         183    198  2020/01  Bailey, Tessa  Love Her or Lose Her: A Novel   \n",
       "\n",
       "                pub_date publisher           isbn  lr_top  lr_hof  ...  \\\n",
       "183  2020-01-14 00:00:00      avon  9780062872852       0       0  ...   \n",
       "\n",
       "                           permalink     genre_0   genre_1           genre_2  \\\n",
       "183  https://lccn.loc.gov/2020275791  Chick lit.  Fiction.  Humorous fiction   \n",
       "\n",
       "             genre_3       genre_4 genre_5 genre_6 genre_7  year  \n",
       "183  Romance fiction  Love stories     NaN     NaN     NaN  2020  \n",
       "\n",
       "[1 rows x 25 columns]"
      ]
     },
     "execution_count": 132,
     "metadata": {},
     "output_type": "execute_result"
    }
   ],
   "source": [
    "full_df_04_14.loc[full_df_04_14.isbn==9780062872852]"
   ]
  },
  {
   "cell_type": "code",
   "execution_count": 131,
   "metadata": {},
   "outputs": [],
   "source": [
    "full_df_04_14.loc[183,'permalink'] = 'https://lccn.loc.gov/2020275791'\n",
    "full_df_04_14.loc[183,'genre_0'] = 'Chick lit.'\n",
    "full_df_04_14.loc[183,'genre_1'] = 'Fiction.'\n",
    "full_df_04_14.loc[183,'genre_2'] = 'Humorous fiction'\n",
    "full_df_04_14.loc[183,'genre_3'] = 'Romance fiction'\n",
    "full_df_04_14.loc[183,'genre_4'] = 'Love stories'\n"
   ]
  },
  {
   "cell_type": "code",
   "execution_count": 136,
   "metadata": {},
   "outputs": [
    {
     "data": {
      "text/plain": [
       "516"
      ]
     },
     "execution_count": 136,
     "metadata": {},
     "output_type": "execute_result"
    }
   ],
   "source": [
    "full_df_04_14.loc[full_df_04_14.isbn==9780062289254].index[0]"
   ]
  },
  {
   "cell_type": "code",
   "execution_count": 137,
   "metadata": {},
   "outputs": [],
   "source": [
    "full_df_04_14.loc[516,'permalink'] = 'https://lccn.loc.gov/2017299737'\n",
    "full_df_04_14.loc[516,'genre_0'] = 'Paranormal romance stories.'\n",
    "full_df_04_14.loc[516,'genre_1'] = 'Fantasy fiction.'\n",
    "full_df_04_14.loc[516,'genre_2'] = 'Fiction.'\n",
    "full_df_04_14.loc[516,'genre_3'] = 'Romance fiction.'\n",
    "full_df_04_14.loc[516,'genre_4'] = 'Love stories.'\n",
    "\n"
   ]
  },
  {
   "cell_type": "code",
   "execution_count": 159,
   "metadata": {},
   "outputs": [
    {
     "data": {
      "text/html": [
       "<div>\n",
       "<style scoped>\n",
       "    .dataframe tbody tr th:only-of-type {\n",
       "        vertical-align: middle;\n",
       "    }\n",
       "\n",
       "    .dataframe tbody tr th {\n",
       "        vertical-align: top;\n",
       "    }\n",
       "\n",
       "    .dataframe thead th {\n",
       "        text-align: right;\n",
       "    }\n",
       "</style>\n",
       "<table border=\"1\" class=\"dataframe\">\n",
       "  <thead>\n",
       "    <tr style=\"text-align: right;\">\n",
       "      <th></th>\n",
       "      <th>Unnamed: 0</th>\n",
       "      <th>index</th>\n",
       "      <th>lr_my</th>\n",
       "      <th>author</th>\n",
       "      <th>title</th>\n",
       "      <th>pub_date</th>\n",
       "      <th>publisher</th>\n",
       "      <th>isbn</th>\n",
       "      <th>lr_top</th>\n",
       "      <th>lr_hof</th>\n",
       "      <th>...</th>\n",
       "      <th>permalink</th>\n",
       "      <th>genre_0</th>\n",
       "      <th>genre_1</th>\n",
       "      <th>genre_2</th>\n",
       "      <th>genre_3</th>\n",
       "      <th>genre_4</th>\n",
       "      <th>genre_5</th>\n",
       "      <th>genre_6</th>\n",
       "      <th>genre_7</th>\n",
       "      <th>year</th>\n",
       "    </tr>\n",
       "  </thead>\n",
       "  <tbody>\n",
       "    <tr>\n",
       "      <th>231</th>\n",
       "      <td>231</td>\n",
       "      <td>250</td>\n",
       "      <td>2019/09</td>\n",
       "      <td>Cabot, Meg</td>\n",
       "      <td>No Judgments</td>\n",
       "      <td>2019-09-24 00:00:00</td>\n",
       "      <td>william morrow paperbacks</td>\n",
       "      <td>9780062890047</td>\n",
       "      <td>0</td>\n",
       "      <td>0</td>\n",
       "      <td>...</td>\n",
       "      <td>https://lccn.loc.gov/2019010863</td>\n",
       "      <td>Love stories.</td>\n",
       "      <td>NaN</td>\n",
       "      <td>NaN</td>\n",
       "      <td>NaN</td>\n",
       "      <td>NaN</td>\n",
       "      <td>NaN</td>\n",
       "      <td>NaN</td>\n",
       "      <td>NaN</td>\n",
       "      <td>2019</td>\n",
       "    </tr>\n",
       "  </tbody>\n",
       "</table>\n",
       "<p>1 rows × 25 columns</p>\n",
       "</div>"
      ],
      "text/plain": [
       "     Unnamed: 0  index    lr_my      author         title  \\\n",
       "231         231    250  2019/09  Cabot, Meg  No Judgments   \n",
       "\n",
       "                pub_date                  publisher           isbn  lr_top  \\\n",
       "231  2019-09-24 00:00:00  william morrow paperbacks  9780062890047       0   \n",
       "\n",
       "     lr_hof  ...                        permalink        genre_0 genre_1  \\\n",
       "231       0  ...  https://lccn.loc.gov/2019010863  Love stories.     NaN   \n",
       "\n",
       "    genre_2 genre_3 genre_4 genre_5 genre_6 genre_7  year  \n",
       "231     NaN     NaN     NaN     NaN     NaN     NaN  2019  \n",
       "\n",
       "[1 rows x 25 columns]"
      ]
     },
     "execution_count": 159,
     "metadata": {},
     "output_type": "execute_result"
    }
   ],
   "source": [
    "full_df_04_14.loc[full_df_04_14.isbn==9780062890047]"
   ]
  },
  {
   "cell_type": "code",
   "execution_count": 152,
   "metadata": {},
   "outputs": [],
   "source": [
    "full_df_04_14.loc[231,'permalink'] = 'https://lccn.loc.gov/2019010863'\n",
    "full_df_04_14.loc[231,'genre_0'] = 'Love stories.'"
   ]
  },
  {
   "cell_type": "code",
   "execution_count": 158,
   "metadata": {},
   "outputs": [
    {
     "data": {
      "text/html": [
       "<div>\n",
       "<style scoped>\n",
       "    .dataframe tbody tr th:only-of-type {\n",
       "        vertical-align: middle;\n",
       "    }\n",
       "\n",
       "    .dataframe tbody tr th {\n",
       "        vertical-align: top;\n",
       "    }\n",
       "\n",
       "    .dataframe thead th {\n",
       "        text-align: right;\n",
       "    }\n",
       "</style>\n",
       "<table border=\"1\" class=\"dataframe\">\n",
       "  <thead>\n",
       "    <tr style=\"text-align: right;\">\n",
       "      <th></th>\n",
       "      <th>Unnamed: 0</th>\n",
       "      <th>index</th>\n",
       "      <th>lr_my</th>\n",
       "      <th>author</th>\n",
       "      <th>title</th>\n",
       "      <th>pub_date</th>\n",
       "      <th>publisher</th>\n",
       "      <th>isbn</th>\n",
       "      <th>lr_top</th>\n",
       "      <th>lr_hof</th>\n",
       "      <th>...</th>\n",
       "      <th>permalink</th>\n",
       "      <th>genre_0</th>\n",
       "      <th>genre_1</th>\n",
       "      <th>genre_2</th>\n",
       "      <th>genre_3</th>\n",
       "      <th>genre_4</th>\n",
       "      <th>genre_5</th>\n",
       "      <th>genre_6</th>\n",
       "      <th>genre_7</th>\n",
       "      <th>year</th>\n",
       "    </tr>\n",
       "  </thead>\n",
       "  <tbody>\n",
       "    <tr>\n",
       "      <th>708</th>\n",
       "      <td>708</td>\n",
       "      <td>772</td>\n",
       "      <td>2015/08</td>\n",
       "      <td>Dirda, Michael</td>\n",
       "      <td>Browsings</td>\n",
       "      <td>2015-08-15 00:00:00</td>\n",
       "      <td>pegasus books</td>\n",
       "      <td>9781605988443</td>\n",
       "      <td>0</td>\n",
       "      <td>0</td>\n",
       "      <td>...</td>\n",
       "      <td>https://lccn.loc.gov/2015298168</td>\n",
       "      <td>Essays.</td>\n",
       "      <td>NaN</td>\n",
       "      <td>NaN</td>\n",
       "      <td>NaN</td>\n",
       "      <td>NaN</td>\n",
       "      <td>NaN</td>\n",
       "      <td>NaN</td>\n",
       "      <td>NaN</td>\n",
       "      <td>2015</td>\n",
       "    </tr>\n",
       "  </tbody>\n",
       "</table>\n",
       "<p>1 rows × 25 columns</p>\n",
       "</div>"
      ],
      "text/plain": [
       "     Unnamed: 0  index    lr_my          author      title  \\\n",
       "708         708    772  2015/08  Dirda, Michael  Browsings   \n",
       "\n",
       "                pub_date      publisher           isbn  lr_top  lr_hof  ...  \\\n",
       "708  2015-08-15 00:00:00  pegasus books  9781605988443       0       0  ...   \n",
       "\n",
       "                           permalink  genre_0 genre_1 genre_2 genre_3 genre_4  \\\n",
       "708  https://lccn.loc.gov/2015298168  Essays.     NaN     NaN     NaN     NaN   \n",
       "\n",
       "    genre_5 genre_6 genre_7  year  \n",
       "708     NaN     NaN     NaN  2015  \n",
       "\n",
       "[1 rows x 25 columns]"
      ]
     },
     "execution_count": 158,
     "metadata": {},
     "output_type": "execute_result"
    }
   ],
   "source": [
    "full_df_04_14.loc[full_df_04_14.isbn==9781605988443]"
   ]
  },
  {
   "cell_type": "code",
   "execution_count": 153,
   "metadata": {},
   "outputs": [],
   "source": [
    "full_df_04_14.loc[708,'permalink'] = 'https://lccn.loc.gov/2015298168'\n",
    "full_df_04_14.loc[708,'genre_0'] = 'Essays.'"
   ]
  },
  {
   "cell_type": "code",
   "execution_count": 157,
   "metadata": {},
   "outputs": [
    {
     "data": {
      "text/html": [
       "<div>\n",
       "<style scoped>\n",
       "    .dataframe tbody tr th:only-of-type {\n",
       "        vertical-align: middle;\n",
       "    }\n",
       "\n",
       "    .dataframe tbody tr th {\n",
       "        vertical-align: top;\n",
       "    }\n",
       "\n",
       "    .dataframe thead th {\n",
       "        text-align: right;\n",
       "    }\n",
       "</style>\n",
       "<table border=\"1\" class=\"dataframe\">\n",
       "  <thead>\n",
       "    <tr style=\"text-align: right;\">\n",
       "      <th></th>\n",
       "      <th>Unnamed: 0</th>\n",
       "      <th>index</th>\n",
       "      <th>lr_my</th>\n",
       "      <th>author</th>\n",
       "      <th>title</th>\n",
       "      <th>pub_date</th>\n",
       "      <th>publisher</th>\n",
       "      <th>isbn</th>\n",
       "      <th>lr_top</th>\n",
       "      <th>lr_hof</th>\n",
       "      <th>...</th>\n",
       "      <th>permalink</th>\n",
       "      <th>genre_0</th>\n",
       "      <th>genre_1</th>\n",
       "      <th>genre_2</th>\n",
       "      <th>genre_3</th>\n",
       "      <th>genre_4</th>\n",
       "      <th>genre_5</th>\n",
       "      <th>genre_6</th>\n",
       "      <th>genre_7</th>\n",
       "      <th>year</th>\n",
       "    </tr>\n",
       "  </thead>\n",
       "  <tbody>\n",
       "    <tr>\n",
       "      <th>633</th>\n",
       "      <td>633</td>\n",
       "      <td>689</td>\n",
       "      <td>2016/05</td>\n",
       "      <td>Mackintosh, Clare</td>\n",
       "      <td>I Let You Go</td>\n",
       "      <td>2016-05-03 00:00:00</td>\n",
       "      <td>berkley</td>\n",
       "      <td>9781101987490</td>\n",
       "      <td>0</td>\n",
       "      <td>0</td>\n",
       "      <td>...</td>\n",
       "      <td>https://lccn.loc.gov/2015025112</td>\n",
       "      <td>Psychological fiction.</td>\n",
       "      <td>Suspense fiction.</td>\n",
       "      <td>NaN</td>\n",
       "      <td>NaN</td>\n",
       "      <td>NaN</td>\n",
       "      <td>NaN</td>\n",
       "      <td>NaN</td>\n",
       "      <td>NaN</td>\n",
       "      <td>2016</td>\n",
       "    </tr>\n",
       "  </tbody>\n",
       "</table>\n",
       "<p>1 rows × 25 columns</p>\n",
       "</div>"
      ],
      "text/plain": [
       "     Unnamed: 0  index    lr_my             author         title  \\\n",
       "633         633    689  2016/05  Mackintosh, Clare  I Let You Go   \n",
       "\n",
       "                pub_date publisher           isbn  lr_top  lr_hof  ...  \\\n",
       "633  2016-05-03 00:00:00   berkley  9781101987490       0       0  ...   \n",
       "\n",
       "                           permalink                 genre_0  \\\n",
       "633  https://lccn.loc.gov/2015025112  Psychological fiction.   \n",
       "\n",
       "               genre_1 genre_2 genre_3 genre_4 genre_5 genre_6 genre_7  year  \n",
       "633  Suspense fiction.     NaN     NaN     NaN     NaN     NaN     NaN  2016  \n",
       "\n",
       "[1 rows x 25 columns]"
      ]
     },
     "execution_count": 157,
     "metadata": {},
     "output_type": "execute_result"
    }
   ],
   "source": [
    "full_df_04_14.loc[full_df_04_14.isbn==9781101987490]"
   ]
  },
  {
   "cell_type": "code",
   "execution_count": 156,
   "metadata": {},
   "outputs": [],
   "source": [
    "full_df_04_14.loc[633,'permalink'] = 'https://lccn.loc.gov/2015025112'\n",
    "full_df_04_14.loc[633,'genre_0'] = 'Psychological fiction.'\n",
    "full_df_04_14.loc[633,'genre_1'] = 'Suspense fiction.'"
   ]
  },
  {
   "cell_type": "code",
   "execution_count": 163,
   "metadata": {},
   "outputs": [
    {
     "data": {
      "text/html": [
       "<div>\n",
       "<style scoped>\n",
       "    .dataframe tbody tr th:only-of-type {\n",
       "        vertical-align: middle;\n",
       "    }\n",
       "\n",
       "    .dataframe tbody tr th {\n",
       "        vertical-align: top;\n",
       "    }\n",
       "\n",
       "    .dataframe thead th {\n",
       "        text-align: right;\n",
       "    }\n",
       "</style>\n",
       "<table border=\"1\" class=\"dataframe\">\n",
       "  <thead>\n",
       "    <tr style=\"text-align: right;\">\n",
       "      <th></th>\n",
       "      <th>Unnamed: 0</th>\n",
       "      <th>index</th>\n",
       "      <th>lr_my</th>\n",
       "      <th>author</th>\n",
       "      <th>title</th>\n",
       "      <th>pub_date</th>\n",
       "      <th>publisher</th>\n",
       "      <th>isbn</th>\n",
       "      <th>lr_top</th>\n",
       "      <th>lr_hof</th>\n",
       "      <th>...</th>\n",
       "      <th>permalink</th>\n",
       "      <th>genre_0</th>\n",
       "      <th>genre_1</th>\n",
       "      <th>genre_2</th>\n",
       "      <th>genre_3</th>\n",
       "      <th>genre_4</th>\n",
       "      <th>genre_5</th>\n",
       "      <th>genre_6</th>\n",
       "      <th>genre_7</th>\n",
       "      <th>year</th>\n",
       "    </tr>\n",
       "  </thead>\n",
       "  <tbody>\n",
       "    <tr>\n",
       "      <th>832</th>\n",
       "      <td>834</td>\n",
       "      <td>908</td>\n",
       "      <td>2014/07</td>\n",
       "      <td>Moyes, Jojo</td>\n",
       "      <td>One Plus One</td>\n",
       "      <td>2014-07-01 00:00:00</td>\n",
       "      <td>pamela dorman books</td>\n",
       "      <td>9780525426585</td>\n",
       "      <td>0</td>\n",
       "      <td>0</td>\n",
       "      <td>...</td>\n",
       "      <td>https://lccn.loc.gov/2013048524</td>\n",
       "      <td>Love stories.</td>\n",
       "      <td>NaN</td>\n",
       "      <td>NaN</td>\n",
       "      <td>NaN</td>\n",
       "      <td>NaN</td>\n",
       "      <td>NaN</td>\n",
       "      <td>NaN</td>\n",
       "      <td>NaN</td>\n",
       "      <td>2014</td>\n",
       "    </tr>\n",
       "  </tbody>\n",
       "</table>\n",
       "<p>1 rows × 25 columns</p>\n",
       "</div>"
      ],
      "text/plain": [
       "     Unnamed: 0  index    lr_my       author         title  \\\n",
       "832         834    908  2014/07  Moyes, Jojo  One Plus One   \n",
       "\n",
       "                pub_date            publisher           isbn  lr_top  lr_hof  \\\n",
       "832  2014-07-01 00:00:00  pamela dorman books  9780525426585       0       0   \n",
       "\n",
       "     ...                        permalink        genre_0 genre_1 genre_2  \\\n",
       "832  ...  https://lccn.loc.gov/2013048524  Love stories.     NaN     NaN   \n",
       "\n",
       "    genre_3 genre_4 genre_5 genre_6 genre_7  year  \n",
       "832     NaN     NaN     NaN     NaN     NaN  2014  \n",
       "\n",
       "[1 rows x 25 columns]"
      ]
     },
     "execution_count": 163,
     "metadata": {},
     "output_type": "execute_result"
    }
   ],
   "source": [
    "full_df_04_14.loc[full_df_04_14.isbn==9780525426585]"
   ]
  },
  {
   "cell_type": "code",
   "execution_count": 162,
   "metadata": {},
   "outputs": [],
   "source": [
    "full_df_04_14.loc[832,'permalink'] = 'https://lccn.loc.gov/2013048524'\n",
    "full_df_04_14.loc[832,'genre_0'] = 'Love stories.'"
   ]
  },
  {
   "cell_type": "code",
   "execution_count": 167,
   "metadata": {},
   "outputs": [
    {
     "data": {
      "text/html": [
       "<div>\n",
       "<style scoped>\n",
       "    .dataframe tbody tr th:only-of-type {\n",
       "        vertical-align: middle;\n",
       "    }\n",
       "\n",
       "    .dataframe tbody tr th {\n",
       "        vertical-align: top;\n",
       "    }\n",
       "\n",
       "    .dataframe thead th {\n",
       "        text-align: right;\n",
       "    }\n",
       "</style>\n",
       "<table border=\"1\" class=\"dataframe\">\n",
       "  <thead>\n",
       "    <tr style=\"text-align: right;\">\n",
       "      <th></th>\n",
       "      <th>Unnamed: 0</th>\n",
       "      <th>index</th>\n",
       "      <th>lr_my</th>\n",
       "      <th>author</th>\n",
       "      <th>title</th>\n",
       "      <th>pub_date</th>\n",
       "      <th>publisher</th>\n",
       "      <th>isbn</th>\n",
       "      <th>lr_top</th>\n",
       "      <th>lr_hof</th>\n",
       "      <th>...</th>\n",
       "      <th>permalink</th>\n",
       "      <th>genre_0</th>\n",
       "      <th>genre_1</th>\n",
       "      <th>genre_2</th>\n",
       "      <th>genre_3</th>\n",
       "      <th>genre_4</th>\n",
       "      <th>genre_5</th>\n",
       "      <th>genre_6</th>\n",
       "      <th>genre_7</th>\n",
       "      <th>year</th>\n",
       "    </tr>\n",
       "  </thead>\n",
       "  <tbody>\n",
       "    <tr>\n",
       "      <th>310</th>\n",
       "      <td>310</td>\n",
       "      <td>335</td>\n",
       "      <td>2019/03</td>\n",
       "      <td>Patrick, Phaedra</td>\n",
       "      <td>The Library of Lost and Found</td>\n",
       "      <td>2019-03-26 00:00:00</td>\n",
       "      <td>park row books</td>\n",
       "      <td>9780778369356</td>\n",
       "      <td>0</td>\n",
       "      <td>0</td>\n",
       "      <td>...</td>\n",
       "      <td>https://lccn.loc.gov/2019297682</td>\n",
       "      <td>Fiction.</td>\n",
       "      <td>NaN</td>\n",
       "      <td>NaN</td>\n",
       "      <td>NaN</td>\n",
       "      <td>NaN</td>\n",
       "      <td>NaN</td>\n",
       "      <td>NaN</td>\n",
       "      <td>NaN</td>\n",
       "      <td>2019</td>\n",
       "    </tr>\n",
       "  </tbody>\n",
       "</table>\n",
       "<p>1 rows × 25 columns</p>\n",
       "</div>"
      ],
      "text/plain": [
       "     Unnamed: 0  index    lr_my            author  \\\n",
       "310         310    335  2019/03  Patrick, Phaedra   \n",
       "\n",
       "                             title             pub_date       publisher  \\\n",
       "310  The Library of Lost and Found  2019-03-26 00:00:00  park row books   \n",
       "\n",
       "              isbn  lr_top  lr_hof  ...                        permalink  \\\n",
       "310  9780778369356       0       0  ...  https://lccn.loc.gov/2019297682   \n",
       "\n",
       "      genre_0 genre_1 genre_2 genre_3 genre_4 genre_5 genre_6 genre_7  year  \n",
       "310  Fiction.     NaN     NaN     NaN     NaN     NaN     NaN     NaN  2019  \n",
       "\n",
       "[1 rows x 25 columns]"
      ]
     },
     "execution_count": 167,
     "metadata": {},
     "output_type": "execute_result"
    }
   ],
   "source": [
    "full_df_04_14.loc[full_df_04_14.isbn==9780778369356]"
   ]
  },
  {
   "cell_type": "code",
   "execution_count": 166,
   "metadata": {},
   "outputs": [],
   "source": [
    "full_df_04_14.loc[310,'permalink'] = 'https://lccn.loc.gov/2019297682'\n",
    "full_df_04_14.loc[310,'genre_0'] = 'Fiction.'"
   ]
  },
  {
   "cell_type": "code",
   "execution_count": 172,
   "metadata": {},
   "outputs": [
    {
     "data": {
      "text/html": [
       "<div>\n",
       "<style scoped>\n",
       "    .dataframe tbody tr th:only-of-type {\n",
       "        vertical-align: middle;\n",
       "    }\n",
       "\n",
       "    .dataframe tbody tr th {\n",
       "        vertical-align: top;\n",
       "    }\n",
       "\n",
       "    .dataframe thead th {\n",
       "        text-align: right;\n",
       "    }\n",
       "</style>\n",
       "<table border=\"1\" class=\"dataframe\">\n",
       "  <thead>\n",
       "    <tr style=\"text-align: right;\">\n",
       "      <th></th>\n",
       "      <th>Unnamed: 0</th>\n",
       "      <th>index</th>\n",
       "      <th>lr_my</th>\n",
       "      <th>author</th>\n",
       "      <th>title</th>\n",
       "      <th>pub_date</th>\n",
       "      <th>publisher</th>\n",
       "      <th>isbn</th>\n",
       "      <th>lr_top</th>\n",
       "      <th>lr_hof</th>\n",
       "      <th>...</th>\n",
       "      <th>permalink</th>\n",
       "      <th>genre_0</th>\n",
       "      <th>genre_1</th>\n",
       "      <th>genre_2</th>\n",
       "      <th>genre_3</th>\n",
       "      <th>genre_4</th>\n",
       "      <th>genre_5</th>\n",
       "      <th>genre_6</th>\n",
       "      <th>genre_7</th>\n",
       "      <th>year</th>\n",
       "    </tr>\n",
       "  </thead>\n",
       "  <tbody>\n",
       "    <tr>\n",
       "      <th>325</th>\n",
       "      <td>325</td>\n",
       "      <td>351</td>\n",
       "      <td>2019/02</td>\n",
       "      <td>Shannon, Samantha</td>\n",
       "      <td>The Priory of the Orange Tree</td>\n",
       "      <td>2019-02-26 00:00:00</td>\n",
       "      <td>bloomsbury publishing</td>\n",
       "      <td>9781635570298</td>\n",
       "      <td>0</td>\n",
       "      <td>0</td>\n",
       "      <td>...</td>\n",
       "      <td>https://lccn.loc.gov/2018276149</td>\n",
       "      <td>Fantasy fiction.</td>\n",
       "      <td>Science fiction.</td>\n",
       "      <td>NaN</td>\n",
       "      <td>NaN</td>\n",
       "      <td>NaN</td>\n",
       "      <td>NaN</td>\n",
       "      <td>NaN</td>\n",
       "      <td>NaN</td>\n",
       "      <td>2019</td>\n",
       "    </tr>\n",
       "  </tbody>\n",
       "</table>\n",
       "<p>1 rows × 25 columns</p>\n",
       "</div>"
      ],
      "text/plain": [
       "     Unnamed: 0  index    lr_my             author  \\\n",
       "325         325    351  2019/02  Shannon, Samantha   \n",
       "\n",
       "                             title             pub_date  \\\n",
       "325  The Priory of the Orange Tree  2019-02-26 00:00:00   \n",
       "\n",
       "                 publisher           isbn  lr_top  lr_hof  ...  \\\n",
       "325  bloomsbury publishing  9781635570298       0       0  ...   \n",
       "\n",
       "                           permalink           genre_0           genre_1  \\\n",
       "325  https://lccn.loc.gov/2018276149  Fantasy fiction.  Science fiction.   \n",
       "\n",
       "    genre_2 genre_3 genre_4 genre_5 genre_6 genre_7  year  \n",
       "325     NaN     NaN     NaN     NaN     NaN     NaN  2019  \n",
       "\n",
       "[1 rows x 25 columns]"
      ]
     },
     "execution_count": 172,
     "metadata": {},
     "output_type": "execute_result"
    }
   ],
   "source": [
    "full_df_04_14.loc[full_df_04_14.isbn==9781635570298]"
   ]
  },
  {
   "cell_type": "code",
   "execution_count": 171,
   "metadata": {},
   "outputs": [],
   "source": [
    "full_df_04_14.loc[325,'permalink'] = 'https://lccn.loc.gov/2018276149'\n",
    "full_df_04_14.loc[325,'genre_0'] = 'Fantasy fiction.'\n",
    "full_df_04_14.loc[325,'genre_1'] = 'Science fiction.'"
   ]
  },
  {
   "cell_type": "code",
   "execution_count": 173,
   "metadata": {},
   "outputs": [
    {
     "name": "stdout",
     "output_type": "stream",
     "text": [
      "53 genres identified in Library of Congress Records more than once\n",
      "52 genres identified in Library of Congress Records once\n"
     ]
    }
   ],
   "source": [
    "full_df_04_14.to_csv('wide_df.csv')\n",
    "long_df = pd.melt(full_df_04_14, id_vars=['isbn'], value_vars=['genre_0', 'genre_1',\n",
    "       'genre_2', 'genre_3', 'genre_4', 'genre_5', 'genre_6', 'genre_7'])\n",
    "len(long_df)\n",
    "LibofCongress_genres = long_df.value.value_counts()\n",
    "print(len(LibofCongress_genres.loc[LibofCongress_genres > 1]),'genres identified in Library of Congress Records more than once')\n",
    "print(len(LibofCongress_genres.loc[LibofCongress_genres == 1]),'genres identified in Library of Congress Records once')\n",
    "#analogous LoC\n",
    "# Key point: a book can have up to 7 LoC genres, sort order is probably default alpha order, don't assign meaning\n"
   ]
  },
  {
   "cell_type": "code",
   "execution_count": 195,
   "metadata": {},
   "outputs": [
    {
     "data": {
      "text/plain": [
       "Int64Index([382, 650, 651, 657, 772, 917], dtype='int64')"
      ]
     },
     "execution_count": 195,
     "metadata": {},
     "output_type": "execute_result"
    }
   ],
   "source": [
    "pd.set_option('display.max_rows',120)\n",
    "LibofCongress_genres\n",
    "long_df['value']=long_df['value'].str.lower()\n",
    "LibofCongress_genres = long_df.value.value_counts()\n",
    "LibofCongress_genres\n",
    "long_df.loc[long_df['value']=='suspense fiction'].index\n"
   ]
  },
  {
   "cell_type": "code",
   "execution_count": 246,
   "metadata": {},
   "outputs": [],
   "source": [
    "def fiction_update(current_genre, new_genre):\n",
    "    idx_list = long_df.loc[long_df['value']==current_genre].index\n",
    "    for i in idx_list:\n",
    "        long_df.loc[i,'value'] = new_genre"
   ]
  },
  {
   "cell_type": "code",
   "execution_count": 200,
   "metadata": {},
   "outputs": [],
   "source": [
    "fiction_update('suspense fiction','suspense fiction.')"
   ]
  },
  {
   "cell_type": "code",
   "execution_count": 202,
   "metadata": {},
   "outputs": [
    {
     "data": {
      "text/html": [
       "<div>\n",
       "<style scoped>\n",
       "    .dataframe tbody tr th:only-of-type {\n",
       "        vertical-align: middle;\n",
       "    }\n",
       "\n",
       "    .dataframe tbody tr th {\n",
       "        vertical-align: top;\n",
       "    }\n",
       "\n",
       "    .dataframe thead th {\n",
       "        text-align: right;\n",
       "    }\n",
       "</style>\n",
       "<table border=\"1\" class=\"dataframe\">\n",
       "  <thead>\n",
       "    <tr style=\"text-align: right;\">\n",
       "      <th></th>\n",
       "      <th>isbn</th>\n",
       "      <th>variable</th>\n",
       "      <th>value</th>\n",
       "    </tr>\n",
       "  </thead>\n",
       "  <tbody>\n",
       "    <tr>\n",
       "      <th>4</th>\n",
       "      <td>9781250268822</td>\n",
       "      <td>genre_0</td>\n",
       "      <td>suspense fiction.</td>\n",
       "    </tr>\n",
       "    <tr>\n",
       "      <th>13</th>\n",
       "      <td>9780062980038</td>\n",
       "      <td>genre_0</td>\n",
       "      <td>suspense fiction.</td>\n",
       "    </tr>\n",
       "    <tr>\n",
       "      <th>14</th>\n",
       "      <td>9781250759665</td>\n",
       "      <td>genre_0</td>\n",
       "      <td>suspense fiction.</td>\n",
       "    </tr>\n",
       "    <tr>\n",
       "      <th>28</th>\n",
       "      <td>9781984881663</td>\n",
       "      <td>genre_0</td>\n",
       "      <td>suspense fiction.</td>\n",
       "    </tr>\n",
       "    <tr>\n",
       "      <th>39</th>\n",
       "      <td>9781250273017</td>\n",
       "      <td>genre_0</td>\n",
       "      <td>suspense fiction.</td>\n",
       "    </tr>\n",
       "    <tr>\n",
       "      <th>...</th>\n",
       "      <td>...</td>\n",
       "      <td>...</td>\n",
       "      <td>...</td>\n",
       "    </tr>\n",
       "    <tr>\n",
       "      <th>4221</th>\n",
       "      <td>9780062659057</td>\n",
       "      <td>genre_4</td>\n",
       "      <td>suspense fiction.</td>\n",
       "    </tr>\n",
       "    <tr>\n",
       "      <th>4798</th>\n",
       "      <td>9780062679161</td>\n",
       "      <td>genre_5</td>\n",
       "      <td>suspense fiction.</td>\n",
       "    </tr>\n",
       "    <tr>\n",
       "      <th>4882</th>\n",
       "      <td>9781643851631</td>\n",
       "      <td>genre_5</td>\n",
       "      <td>suspense fiction.</td>\n",
       "    </tr>\n",
       "    <tr>\n",
       "      <th>5046</th>\n",
       "      <td>9780316176637</td>\n",
       "      <td>genre_5</td>\n",
       "      <td>suspense fiction.</td>\n",
       "    </tr>\n",
       "    <tr>\n",
       "      <th>5092</th>\n",
       "      <td>9780062696793</td>\n",
       "      <td>genre_5</td>\n",
       "      <td>suspense fiction.</td>\n",
       "    </tr>\n",
       "  </tbody>\n",
       "</table>\n",
       "<p>175 rows × 3 columns</p>\n",
       "</div>"
      ],
      "text/plain": [
       "               isbn variable              value\n",
       "4     9781250268822  genre_0  suspense fiction.\n",
       "13    9780062980038  genre_0  suspense fiction.\n",
       "14    9781250759665  genre_0  suspense fiction.\n",
       "28    9781984881663  genre_0  suspense fiction.\n",
       "39    9781250273017  genre_0  suspense fiction.\n",
       "...             ...      ...                ...\n",
       "4221  9780062659057  genre_4  suspense fiction.\n",
       "4798  9780062679161  genre_5  suspense fiction.\n",
       "4882  9781643851631  genre_5  suspense fiction.\n",
       "5046  9780316176637  genre_5  suspense fiction.\n",
       "5092  9780062696793  genre_5  suspense fiction.\n",
       "\n",
       "[175 rows x 3 columns]"
      ]
     },
     "execution_count": 202,
     "metadata": {},
     "output_type": "execute_result"
    }
   ],
   "source": [
    "long_df.loc[long_df['value']=='suspense fiction.']"
   ]
  },
  {
   "cell_type": "code",
   "execution_count": 205,
   "metadata": {},
   "outputs": [
    {
     "data": {
      "text/plain": [
       "lovet stories.                        1\n",
       "juvenile works.                       1\n",
       "short stories.                        1\n",
       "graphic novels.                       1\n",
       "fiction                               1\n",
       "martial arts fiction.                 1\n",
       "time-travel fiction.                  1\n",
       "science fiction                       1\n",
       "bible fiction.                        1\n",
       "popular works.                        1\n",
       "young adult fiction.                  1\n",
       "christian fiction.                    1\n",
       "spy fiction.                          1\n",
       "biographical fiction                  1\n",
       "fiction / thrillers.                  1\n",
       "novellas.                             1\n",
       "true crime stories.                   1\n",
       "young adult works.                    1\n",
       "epic fiction.                         1\n",
       "choose-your-own stories.              1\n",
       "suspence fiction.                     1\n",
       "detective fiction.                    1\n",
       "coming of age fiction.                1\n",
       "comics (graphic works)                1\n",
       "musical fiction.                      1\n",
       "humorous fiction                      1\n",
       "comic books, strips, etc.             1\n",
       "dystopian fiction                     1\n",
       "ghost storeis.                        1\n",
       "apocalyptic fiction.                  1\n",
       "mystery in literature.                1\n",
       "diary fiction.                        1\n",
       "ghost stories fiction.                1\n",
       "sea stories.                          1\n",
       "history                               1\n",
       "medical fiction.                      1\n",
       "humor.                                1\n",
       "detective and mystery fiction         1\n",
       "christmas fiction.                    1\n",
       "biographies.                          1\n",
       "utopian fiction.                      1\n",
       "fiction / literary.                   1\n",
       "romance fiction                       1\n",
       "autobiographical comics.              1\n",
       "thrillers (fiction).                  1\n",
       "bildungsromans                        1\n",
       "thriller fiction.                     1\n",
       "medical novels                        1\n",
       "autobiographical fiction.             1\n",
       "fictional works.                      1\n",
       "thrillers (fiction.)                  2\n",
       "christmas stories.                    2\n",
       "political fiction.                    2\n",
       "fantasy fiction                       2\n",
       "war stories                           2\n",
       "western stories.                      2\n",
       "paranormal romance stories.           2\n",
       "noir fiction.                         2\n",
       "jewish fiction.                       2\n",
       "dystopian fiction.                    2\n",
       "love stories                          2\n",
       "cookbooks.                            2\n",
       "detective and mystery stories.        3\n",
       "epistolary fiction.                   3\n",
       "history.                              3\n",
       "autobiographies.                      3\n",
       "essays.                               3\n",
       "alternative histories (fiction).      3\n",
       "regency fiction.                      3\n",
       "humorous stories.                     4\n",
       "spy stories.                          4\n",
       "chick lit.                            4\n",
       "gothic fiction.                       4\n",
       "mystery fiction                       4\n",
       "satire.                               5\n",
       "black humor (literature)              5\n",
       "historical fiction                    5\n",
       "adventure fiction.                    6\n",
       "legal stories.                        6\n",
       "war stories.                          6\n",
       "suspense fiction                      6\n",
       "novels.                               7\n",
       "dystopias.                            7\n",
       "paranormal fiction.                   7\n",
       "ghost stories.                        8\n",
       "occult fiction.                       9\n",
       "romance fiction.                     10\n",
       "bildungsromans.                      12\n",
       "romantic suspense fiction.           13\n",
       "detective and mystery fiction.       14\n",
       "horror fiction.                      15\n",
       "science fiction.                     22\n",
       "biographical fiction.                22\n",
       "thrillers (fiction)                  24\n",
       "humorous fiction.                    24\n",
       "fantasy fiction.                     68\n",
       "fiction.                             71\n",
       "psychological fiction.               72\n",
       "historical fiction.                  81\n",
       "domestic fiction.                    94\n",
       "love stories.                       115\n",
       "mystery fiction.                    152\n",
       "suspense fiction.                   169\n",
       "Name: value, dtype: int64"
      ]
     },
     "execution_count": 205,
     "metadata": {},
     "output_type": "execute_result"
    }
   ],
   "source": [
    "LibofCongress_genres.sort_values()"
   ]
  },
  {
   "cell_type": "code",
   "execution_count": 219,
   "metadata": {},
   "outputs": [],
   "source": [
    "long_df['value'] = long_df['value'].str.replace('.','').str.strip()\n",
    "genre_variables = ['genre_0','genre_1','genre_2','genre_3','genre_4','genre_5','genre_6','genre_7']\n",
    "for i in genre_variables:\n",
    "    full_df_04_14[i] = full_df_04_14[i].str.replace('.','').str.strip().str.lower()\n",
    "#update_genres=['lovet stories.','science fiction','suspence fiction.','']\n"
   ]
  },
  {
   "cell_type": "code",
   "execution_count": 220,
   "metadata": {},
   "outputs": [
    {
     "name": "stdout",
     "output_type": "stream",
     "text": [
      "46 genres identified in Library of Congress Records more than once\n",
      "40 genres identified in Library of Congress Records once\n"
     ]
    }
   ],
   "source": [
    "LibofCongress_genres = long_df.value.value_counts()\n",
    "print(len(LibofCongress_genres.loc[LibofCongress_genres > 1]),'genres identified in Library of Congress Records more than once')\n",
    "print(len(LibofCongress_genres.loc[LibofCongress_genres == 1]),'genres identified in Library of Congress Records once')\n",
    "#analogous LoC\n",
    "# Key point: a book can have up to 7 LoC genres, sort order is probably default alpha order, don't assign meaning\n"
   ]
  },
  {
   "cell_type": "code",
   "execution_count": 250,
   "metadata": {},
   "outputs": [
    {
     "data": {
      "text/plain": [
       "adventure fiction                    6\n",
       "alternative histories (fiction)      3\n",
       "apocalyptic fiction                  1\n",
       "autobiographical comics              1\n",
       "autobiographical fiction             1\n",
       "autobiographies                      3\n",
       "bible fiction                        1\n",
       "bildungsromans                      13\n",
       "biographical fiction                23\n",
       "biographies                          1\n",
       "black humor (literature)             5\n",
       "chick lit                            4\n",
       "choose-your-own stories              1\n",
       "christian fiction                    1\n",
       "christmas stories                    3\n",
       "comic books, strips, etc             1\n",
       "comics (graphic works)               1\n",
       "coming of age fiction                1\n",
       "cookbooks                            2\n",
       "detective and mystery fiction       19\n",
       "diary fiction                        1\n",
       "domestic fiction                    94\n",
       "dystopias                           10\n",
       "epic fiction                         1\n",
       "epistolary fiction                   3\n",
       "essays                               3\n",
       "fantasy fiction                     70\n",
       "fiction                             73\n",
       "fiction / literary                   1\n",
       "ghost stories                       10\n",
       "gothic fiction                       4\n",
       "graphic novels                       1\n",
       "historical fiction                  86\n",
       "history                              4\n",
       "horror fiction                      15\n",
       "humor                                1\n",
       "humorous fiction                    29\n",
       "jewish fiction                       2\n",
       "juvenile works                       1\n",
       "legal stories                        6\n",
       "love stories                       118\n",
       "martial arts fiction                 1\n",
       "medical fiction                      2\n",
       "musical fiction                      1\n",
       "mystery fiction                    156\n",
       "mystery in literature                1\n",
       "noir fiction                         2\n",
       "novellas                             1\n",
       "novels                               7\n",
       "occult fiction                       9\n",
       "paranormal fiction                   7\n",
       "paranormal romance stories           2\n",
       "political fiction                    2\n",
       "popular works                        1\n",
       "psychological fiction               72\n",
       "regency fiction                      3\n",
       "romance fiction                     11\n",
       "romantic suspense fiction           13\n",
       "satire                               5\n",
       "science fiction                     23\n",
       "sea stories                          1\n",
       "short stories                        1\n",
       "spy fiction                          5\n",
       "suspense fiction                   176\n",
       "thrillers (fiction)                 29\n",
       "time-travel fiction                  1\n",
       "true crime stories                   1\n",
       "utopian fiction                      1\n",
       "war stories                          8\n",
       "western stories                      2\n",
       "young adult fiction                  2\n",
       "Name: value, dtype: int64"
      ]
     },
     "execution_count": 250,
     "metadata": {},
     "output_type": "execute_result"
    }
   ],
   "source": [
    "LibofCongress_genres = long_df.value.value_counts()\n",
    "LibofCongress_genres.sort_index()"
   ]
  },
  {
   "cell_type": "code",
   "execution_count": 249,
   "metadata": {},
   "outputs": [],
   "source": [
    "genre_updates = [['young adult works','young adult fiction'],['thriller fiction','thrillers (fiction)'],['suspence fiction','suspense fiction'],\n",
    " ['spy stories','spy fiction'],['medical novels','medical fiction'],['lovet stories','love stories'],\n",
    " ['humorous stories','humorous fiction'],['ghost stories fiction','ghost stories'],['ghost storeis','ghost stories'],\n",
    " ['fictional works','fiction'],['fiction / thrillers', 'thrillers (fiction)'],['dystopian fiction','dystopias'],\n",
    " ['detective fiction','detective and mystery fiction'],['detective and mystery stories','detective and mystery fiction'],\n",
    " ['christmas fiction','christmas stories']]\n",
    "current_genre=''\n",
    "new_genre=''\n",
    "for i in genre_updates:\n",
    "    fiction_update(i[0],i[1])\n",
    "\n",
    "for i in genre_variables:\n",
    "    for\n"
   ]
  },
  {
   "cell_type": "code",
   "execution_count": 255,
   "metadata": {},
   "outputs": [],
   "source": [
    "def fiction_update_wide(current_genre, new_genre, genre_col):\n",
    "    idx_list = full_df_04_14.loc[full_df_04_14[genre_col]==current_genre].index\n",
    "    for i in idx_list:\n",
    "        full_df_04_14.loc[i,genre_col] = new_genre"
   ]
  },
  {
   "cell_type": "code",
   "execution_count": 257,
   "metadata": {},
   "outputs": [],
   "source": [
    "for j in genre_variables:\n",
    "    for k in genre_updates:\n",
    "        fiction_update_wide(k[0],k[1],j)\n",
    "    "
   ]
  },
  {
   "cell_type": "code",
   "execution_count": 259,
   "metadata": {},
   "outputs": [
    {
     "data": {
      "text/html": [
       "<div>\n",
       "<style scoped>\n",
       "    .dataframe tbody tr th:only-of-type {\n",
       "        vertical-align: middle;\n",
       "    }\n",
       "\n",
       "    .dataframe tbody tr th {\n",
       "        vertical-align: top;\n",
       "    }\n",
       "\n",
       "    .dataframe thead th {\n",
       "        text-align: right;\n",
       "    }\n",
       "</style>\n",
       "<table border=\"1\" class=\"dataframe\">\n",
       "  <thead>\n",
       "    <tr style=\"text-align: right;\">\n",
       "      <th></th>\n",
       "      <th>genre_0</th>\n",
       "      <th>genre_1</th>\n",
       "      <th>genre_2</th>\n",
       "      <th>genre_3</th>\n",
       "      <th>genre_4</th>\n",
       "      <th>genre_5</th>\n",
       "      <th>genre_6</th>\n",
       "      <th>genre_7</th>\n",
       "    </tr>\n",
       "  </thead>\n",
       "  <tbody>\n",
       "    <tr>\n",
       "      <th>count</th>\n",
       "      <td>650</td>\n",
       "      <td>330</td>\n",
       "      <td>103</td>\n",
       "      <td>49</td>\n",
       "      <td>24</td>\n",
       "      <td>10</td>\n",
       "      <td>3</td>\n",
       "      <td>1</td>\n",
       "    </tr>\n",
       "    <tr>\n",
       "      <th>unique</th>\n",
       "      <td>45</td>\n",
       "      <td>44</td>\n",
       "      <td>28</td>\n",
       "      <td>21</td>\n",
       "      <td>14</td>\n",
       "      <td>5</td>\n",
       "      <td>3</td>\n",
       "      <td>1</td>\n",
       "    </tr>\n",
       "    <tr>\n",
       "      <th>top</th>\n",
       "      <td>mystery fiction</td>\n",
       "      <td>suspense fiction</td>\n",
       "      <td>fiction</td>\n",
       "      <td>psychological fiction</td>\n",
       "      <td>suspense fiction</td>\n",
       "      <td>suspense fiction</td>\n",
       "      <td>novellas</td>\n",
       "      <td>fantasy fiction</td>\n",
       "    </tr>\n",
       "    <tr>\n",
       "      <th>freq</th>\n",
       "      <td>150</td>\n",
       "      <td>75</td>\n",
       "      <td>22</td>\n",
       "      <td>8</td>\n",
       "      <td>7</td>\n",
       "      <td>4</td>\n",
       "      <td>1</td>\n",
       "      <td>1</td>\n",
       "    </tr>\n",
       "  </tbody>\n",
       "</table>\n",
       "</div>"
      ],
      "text/plain": [
       "                genre_0           genre_1  genre_2                genre_3  \\\n",
       "count               650               330      103                     49   \n",
       "unique               45                44       28                     21   \n",
       "top     mystery fiction  suspense fiction  fiction  psychological fiction   \n",
       "freq                150                75       22                      8   \n",
       "\n",
       "                 genre_4           genre_5   genre_6          genre_7  \n",
       "count                 24                10         3                1  \n",
       "unique                14                 5         3                1  \n",
       "top     suspense fiction  suspense fiction  novellas  fantasy fiction  \n",
       "freq                   7                 4         1                1  "
      ]
     },
     "execution_count": 259,
     "metadata": {},
     "output_type": "execute_result"
    }
   ],
   "source": [
    "full_df_04_14[genre_variables].describe()"
   ]
  },
  {
   "cell_type": "code",
   "execution_count": 260,
   "metadata": {},
   "outputs": [],
   "source": [
    "wide_df = full_df_04_14"
   ]
  },
  {
   "cell_type": "code",
   "execution_count": 261,
   "metadata": {},
   "outputs": [],
   "source": [
    "wide_df.to_csv('wide_df_eod418.csv')"
   ]
  },
  {
   "cell_type": "code",
   "execution_count": 262,
   "metadata": {},
   "outputs": [],
   "source": [
    "long_df.to_csv('long_df_eod418.csv')"
   ]
  },
  {
   "cell_type": "code",
   "execution_count": null,
   "metadata": {},
   "outputs": [],
   "source": []
  }
 ],
 "metadata": {
  "kernelspec": {
   "display_name": "Python 3",
   "language": "python",
   "name": "python3"
  },
  "language_info": {
   "codemirror_mode": {
    "name": "ipython",
    "version": 3
   },
   "file_extension": ".py",
   "mimetype": "text/x-python",
   "name": "python",
   "nbconvert_exporter": "python",
   "pygments_lexer": "ipython3",
   "version": "3.8.5"
  }
 },
 "nbformat": 4,
 "nbformat_minor": 4
}
