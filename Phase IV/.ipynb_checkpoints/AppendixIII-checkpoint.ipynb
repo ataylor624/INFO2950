{
 "cells": [
  {
   "cell_type": "code",
   "execution_count": 1,
   "id": "ea112bf0-edc3-4832-bbdd-5d5bea103c8a",
   "metadata": {},
   "outputs": [],
   "source": [
    "import re\n",
    "import bs4 #this may be appendices only\n",
    "import requests #this may be appendices only\n",
    "import pandas as pd\n",
    "import numpy as np\n",
    "import matplotlib.pyplot as plt\n",
    "from scipy import stats\n",
    "from datetime import datetime\n",
    "import datetime\n",
    "import seaborn as sns\n",
    "from   sklearn.linear_model import LinearRegression, LogisticRegression\n",
    "from   sklearn.model_selection import train_test_split\n",
    "import statsmodels.formula.api as smf\n",
    "from sklearn.cluster import KMeans\n",
    "from sklearn.preprocessing import OneHotEncoder\n",
    "from sklearn import preprocessing\n",
    "from sklearn.decomposition import PCA\n",
    "from sklearn.model_selection import cross_val_score"
   ]
  },
  {
   "cell_type": "code",
   "execution_count": 2,
   "id": "bee5e0a0-6f3d-447b-8cdb-6b85d67936e2",
   "metadata": {},
   "outputs": [
    {
     "name": "stdout",
     "output_type": "stream",
     "text": [
      "<_io.TextIOWrapper name='LOC Email Data.txt' mode='r' encoding='utf8'>\n",
      "<_io.TextIOWrapper name='LOC Email Data2.txt' mode='r' encoding='utf8'>\n",
      "<_io.TextIOWrapper name='LOC Email Data3.txt' mode='r' encoding='utf8'>\n"
     ]
    },
    {
     "data": {
      "text/plain": [
       "1003"
      ]
     },
     "execution_count": 2,
     "metadata": {},
     "output_type": "execute_result"
    }
   ],
   "source": [
    "#Get LOC Permalinks from email text\n",
    "#ISBNs entered into the advanced search in LC Catalog in groups of 85 - 170. Results can be emailed/exported in batches of 100\n",
    "#most searches resulted in less than 150 records\n",
    "#text formatted results from each export were copied into a single text document for a round of searching, and then the text processed to retrieve the permalinks to the LC records\n",
    "#Multiple rounds of searches were run. The first round resulted in approximately 450 non-successes, the second in slightly less than 100 non-successes, and the third resulted in only 80 unmatched records.\n",
    "\n",
    "loc_email=open(\"LOC Email Data.txt\",encoding='utf8')\n",
    "print(loc_email)\n",
    "link_lst1 = []\n",
    "\n",
    "for ln in loc_email:\n",
    "    if ln.lstrip().startswith('Permalink'): #find permalink rows of text\n",
    "        link_lst1.append(ln.lstrip().rstrip('\\n')[12:]) #remove \"Permalink: \" from the string, retain only the actual link\n",
    "\n",
    "loc_email.close()\n",
    "\n",
    "loc_email=open(\"LOC Email Data2.txt\",encoding='utf8')\n",
    "print(loc_email)\n",
    "link_lst2 = []\n",
    "\n",
    "for ln in loc_email:\n",
    "    if ln.lstrip().startswith('Permalink'):\n",
    "        link_lst2.append(ln.lstrip().rstrip('\\n')[12:])\n",
    "\n",
    "loc_email.close()\n",
    "\n",
    "loc_email=open(\"LOC Email Data3.txt\",encoding='utf8')\n",
    "print(loc_email)\n",
    "link_lst3 = []\n",
    "\n",
    "for ln in loc_email:\n",
    "    if ln.lstrip().startswith('Permalink'):\n",
    "        link_lst3.append(ln.lstrip().rstrip('\\n')[12:])\n",
    "loc_email.close()\n",
    "\n",
    "link_lst=list(set(link_lst1 + link_lst2 + link_lst3))#concatenate all lists of links into a single list to loop over for webscraping.\n",
    "len(link_lst)"
   ]
  },
  {
   "cell_type": "code",
   "execution_count": null,
   "id": "5dd6568f-fac5-41d9-8475-c828724833f0",
   "metadata": {},
   "outputs": [],
   "source": []
  }
 ],
 "metadata": {
  "kernelspec": {
   "display_name": "Python 3",
   "language": "python",
   "name": "python3"
  },
  "language_info": {
   "codemirror_mode": {
    "name": "ipython",
    "version": 3
   },
   "file_extension": ".py",
   "mimetype": "text/x-python",
   "name": "python",
   "nbconvert_exporter": "python",
   "pygments_lexer": "ipython3",
   "version": "3.8.8"
  }
 },
 "nbformat": 4,
 "nbformat_minor": 5
}
