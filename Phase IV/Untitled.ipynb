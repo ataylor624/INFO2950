{
 "cells": [
  {
   "cell_type": "markdown",
   "id": "71743e39-382b-4ee7-8909-86d554cbb1d1",
   "metadata": {},
   "source": [
    "# Appendix 2: Missing Library of Congress Data"
   ]
  },
  {
   "cell_type": "code",
   "execution_count": null,
   "id": "315ad487-29ad-4c64-826e-b1f95f6d4b54",
   "metadata": {},
   "outputs": [],
   "source": [
    "import re\n",
    "import bs4 #this may be appendices only\n",
    "import requests #this may be appendices only\n",
    "import pandas as pd\n",
    "import numpy as np\n",
    "import matplotlib.pyplot as plt\n",
    "from scipy import stats\n",
    "from datetime import datetime\n",
    "import datetime\n",
    "import seaborn as sns\n",
    "from   sklearn.linear_model import LinearRegression, LogisticRegression\n",
    "from   sklearn.model_selection import train_test_split\n",
    "import statsmodels.formula.api as smf\n",
    "from sklearn.cluster import KMeans\n",
    "from sklearn.preprocessing import OneHotEncoder\n",
    "from sklearn import preprocessing\n",
    "from sklearn.decomposition import PCA\n",
    "from sklearn.model_selection import cross_val_score"
   ]
  },
  {
   "cell_type": "code",
   "execution_count": null,
   "id": "eaa5a732-0069-45f6-b73c-28a4edefe65b",
   "metadata": {},
   "outputs": [],
   "source": []
  },
  {
   "cell_type": "code",
   "execution_count": null,
   "id": "0a7e4423-a13d-473a-b961-124ce3f0e248",
   "metadata": {},
   "outputs": [],
   "source": [
    "missing_permalink=full_df[full_df.permalink.isnull()]\n",
    "print(missing_permalink.title.describe())\n",
    "missing_permalink.lr_my.value_counts().sort_index()"
   ]
  },
  {
   "cell_type": "markdown",
   "id": "9117218e-b139-43c4-8b02-7f2768f79087",
   "metadata": {},
   "source": [
    "Pre-publication books aren't in the LC Catalog, which may explain the 2021/03 missing observations - checking pubdates below indicates that they were all published prior to the LC Catalog searches, so this can't be the cause of their absence. "
   ]
  },
  {
   "cell_type": "code",
   "execution_count": null,
   "id": "3a9e40ab-db50-4fb5-a14c-24cb19336eb9",
   "metadata": {},
   "outputs": [],
   "source": [
    "missing_permalink[missing_permalink.lr_my=='2021/03']"
   ]
  }
 ],
 "metadata": {
  "kernelspec": {
   "display_name": "Python 3",
   "language": "python",
   "name": "python3"
  },
  "language_info": {
   "codemirror_mode": {
    "name": "ipython",
    "version": 3
   },
   "file_extension": ".py",
   "mimetype": "text/x-python",
   "name": "python",
   "nbconvert_exporter": "python",
   "pygments_lexer": "ipython3",
   "version": "3.8.8"
  }
 },
 "nbformat": 4,
 "nbformat_minor": 5
}
